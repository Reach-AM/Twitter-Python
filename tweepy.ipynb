{
  "nbformat": 4,
  "nbformat_minor": 0,
  "metadata": {
    "colab": {
      "name": "tweepy.ipynb",
      "provenance": [],
      "collapsed_sections": []
    },
    "kernelspec": {
      "name": "python3",
      "display_name": "Python 3"
    },
    "language_info": {
      "name": "python"
    }
  },
  "cells": [
    {
      "cell_type": "markdown",
      "metadata": {
        "id": "zzG_D4iS-npT"
      },
      "source": [
        "# **Código de Tweepy para extraer datos de twitter**"
      ]
    },
    {
      "cell_type": "code",
      "metadata": {
        "id": "D8wx88Ce15iE"
      },
      "source": [
        "import pandas as pd\n",
        "import tweepy as twpy\n",
        "from tweepy import OAuthHandler"
      ],
      "execution_count": null,
      "outputs": []
    },
    {
      "cell_type": "markdown",
      "metadata": {
        "id": "tJGWUahK_OhX"
      },
      "source": [
        "## **1. Permiso para usar la API**"
      ]
    },
    {
      "cell_type": "markdown",
      "metadata": {
        "id": "E9TK8_heA1rW"
      },
      "source": [
        "*Códigos de acceso*"
      ]
    },
    {
      "cell_type": "code",
      "metadata": {
        "id": "udKpyjf93jex"
      },
      "source": [
        "access_token = '####'\n",
        "access_token_secret = '####'\n",
        "api_key = '####'\n",
        "api_secret_key = '####'"
      ],
      "execution_count": null,
      "outputs": []
    },
    {
      "cell_type": "code",
      "metadata": {
        "id": "q2EZqPpM32r8"
      },
      "source": [
        "autorizacion = twpy.OAuthHandler(api_key, api_secret_key)\n",
        "autorizacion.set_access_token(access_token, access_token_secret)"
      ],
      "execution_count": null,
      "outputs": []
    },
    {
      "cell_type": "markdown",
      "metadata": {
        "id": "4iwqdPFNA9Av"
      },
      "source": [
        "## **2. Set up de la API**"
      ]
    },
    {
      "cell_type": "code",
      "metadata": {
        "id": "_ARPft1E4Atb"
      },
      "source": [
        "api = twpy.API(autorizacion, wait_on_rate_limit=True, wait_on_rate_limit_notify=True)"
      ],
      "execution_count": null,
      "outputs": []
    },
    {
      "cell_type": "code",
      "metadata": {
        "id": "oRG7rcAV9JIj"
      },
      "source": [
        "tweets = []\n",
        "account = \"@user\""
      ],
      "execution_count": null,
      "outputs": []
    },
    {
      "cell_type": "markdown",
      "metadata": {
        "id": "-lFUNE6xBH4G"
      },
      "source": [
        "## **3. Extracción de los datos**"
      ]
    },
    {
      "cell_type": "code",
      "metadata": {
        "id": "RcSfhAtJ137i"
      },
      "source": [
        "# Para tweets desde cierta fecha:\n",
        "# for tweet in twpy.Cursor(api.search, q=account, since='2019-12-31').items():\n",
        "#\n",
        "# Para tweets hasta cierta fecha:\n",
        "# for tweet in twpy.Cursor(api.search, q=account, max_id='2019-12-31').items():\n",
        "#\n",
        "# Para un numero exacto de tweets:\n",
        "# for tweet in twpy.Cursor(api.search, q=account).items(50000):\n",
        "\n",
        "for tweet in twpy.Cursor(api.search, q=account).items():\n",
        "  \n",
        "\ttry: \n",
        "\t\tdata = [tweet.created_at, tweet.id, tweet.text, tweet.user._json['screen_name'], tweet.user._json['name'], tweet.user._json['created_at'], tweet.entities['urls']]\n",
        "\t\tdata = tuple(data)\n",
        "\t\ttweets.append(data)\n",
        "\n",
        "\texcept twpy.TweepError as e:\n",
        "\t\tprint(e.reason)\n",
        "\t\tcontinue\n",
        "\n",
        "\texcept StopIteration:\n",
        "\t\tbreak"
      ],
      "execution_count": null,
      "outputs": []
    },
    {
      "cell_type": "markdown",
      "metadata": {
        "id": "7CK9UM7fBqZu"
      },
      "source": [
        "## **4. Set up de los datos para su análisis**"
      ]
    },
    {
      "cell_type": "code",
      "metadata": {
        "id": "XDB-7nJM97C3"
      },
      "source": [
        "tweets_df = pd.DataFrame(tweets, columns = ['created_at','tweet_id', 'tweet_text', 'screen_name', 'name', 'account_creation_date', 'urls'])\n",
        "\n",
        "# Guardar datos en un csv\n",
        "# tweets_df.to_csv(path_or_buf = '/twitterData.csv', index=False) "
      ],
      "execution_count": null,
      "outputs": []
    }
  ]
}